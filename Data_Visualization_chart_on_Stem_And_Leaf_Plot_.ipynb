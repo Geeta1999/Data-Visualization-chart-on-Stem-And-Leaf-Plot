{
  "nbformat": 4,
  "nbformat_minor": 0,
  "metadata": {
    "colab": {
      "provenance": [],
      "toc_visible": true,
      "authorship_tag": "ABX9TyO2DbGXKQOpnOfUaFBQD9IC",
      "include_colab_link": true
    },
    "kernelspec": {
      "name": "python3",
      "display_name": "Python 3"
    },
    "language_info": {
      "name": "python"
    }
  },
  "cells": [
    {
      "cell_type": "markdown",
      "metadata": {
        "id": "view-in-github",
        "colab_type": "text"
      },
      "source": [
        "<a href=\"https://colab.research.google.com/github/Geeta1999/Data-Visualization-chart-on-Stem-And-Leaf-Plot/blob/main/Data_Visualization_chart_on_Stem_And_Leaf_Plot_.ipynb\" target=\"_parent\"><img src=\"https://colab.research.google.com/assets/colab-badge.svg\" alt=\"Open In Colab\"/></a>"
      ]
    },
    {
      "cell_type": "code",
      "execution_count": null,
      "metadata": {
        "colab": {
          "base_uri": "https://localhost:8080/"
        },
        "id": "gY99RrvdanG-",
        "outputId": "951eff69-da68-41a4-f223-4b7eef0ed2cd"
      },
      "outputs": [
        {
          "output_type": "stream",
          "name": "stdout",
          "text": [
            "Stem-and-Leaf Plot:\n",
            "2 | 3\n",
            "3 | 5\n",
            "4 | 2 8\n",
            "5 | 0 6 7\n",
            "6 | 0 2 5\n",
            "7 | 2 5 8\n",
            "8 | 0 2 5 7\n",
            "9 | 0\n"
          ]
        }
      ],
      "source": [
        "# Sample dataset\n",
        "data = [23, 35, 42, 48, 50, 56, 57, 60, 62, 65, 72, 75, 78, 80, 82, 85, 87, 90]\n",
        "\n",
        "# Creating a stem-and-leaf plot\n",
        "stem_data = {}\n",
        "for num in data:\n",
        "    stem = num // 10\n",
        "    leaf = num % 10\n",
        "    if stem not in stem_data:\n",
        "        stem_data[stem] = []\n",
        "    stem_data[stem].append(leaf)\n",
        "\n",
        "# Printing the stem-and-leaf plot\n",
        "print(\"Stem-and-Leaf Plot:\")\n",
        "for stem in sorted(stem_data.keys()):\n",
        "    leaves = \" \".join(map(str, sorted(stem_data[stem])))\n",
        "    print(f\"{stem} | {leaves}\")\n"
      ]
    },
    {
      "cell_type": "markdown",
      "source": [
        "Conclusion:\n",
        "\n",
        "This Python code generates a stem-and-leaf plot using the provided dataset. It calculates stems and leaves, organizes them into a dictionary, and then prints the plot with stems and their corresponding leaves. This stem-and-leaf plot provides insights into the distribution of the dataset while retaining individual data points for detailed analysis."
      ],
      "metadata": {
        "id": "IXCcgqrgsFjD"
      }
    },
    {
      "cell_type": "code",
      "source": [
        "import matplotlib.pyplot as plt\n",
        "from collections import Counter\n",
        "\n",
        "# Sample dataset\n",
        "data = [23, 35, 42, 48, 50, 56, 57, 60, 62, 65, 72, 75, 78, 80, 82, 85, 87, 90]\n",
        "\n",
        "# Counting the frequency of each value\n",
        "data_counter = Counter(data)\n",
        "\n",
        "# Extracting data for plotting\n",
        "values = list(data_counter.keys())\n",
        "frequencies = list(data_counter.values())\n",
        "\n",
        "# Creating the bar plot\n",
        "plt.bar(values, frequencies, color='lightblue')\n",
        "plt.xlabel('Value')\n",
        "plt.ylabel('Frequency')\n",
        "plt.title('Bar Plot of Sample Data')\n",
        "plt.show()\n"
      ],
      "metadata": {
        "colab": {
          "base_uri": "https://localhost:8080/",
          "height": 472
        },
        "id": "txVwHBMjsT-M",
        "outputId": "1bc0d4ff-db7d-4802-e51c-dde91d48b474"
      },
      "execution_count": null,
      "outputs": [
        {
          "output_type": "display_data",
          "data": {
            "text/plain": [
              "<Figure size 640x480 with 1 Axes>"
            ],
            "image/png": "[encoded data removed]"
          },
          "metadata": {}
        }
      ]
    },
    {
      "cell_type": "markdown",
      "source": [
        "Conclusion:\n",
        "\n",
        "This Python code demonstrates how to create a bar plot using the matplotlib library. The bar plot represents the frequency distribution of the sample dataset, visualizing how often each value occurs. This type of plot is particularly useful for understanding the distribution and patterns within a dataset."
      ],
      "metadata": {
        "id": "YSk_hJfNs4nQ"
      }
    }
  ]
}